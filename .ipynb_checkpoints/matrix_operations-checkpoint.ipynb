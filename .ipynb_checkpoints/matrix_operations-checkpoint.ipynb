{
 "cells": [
  {
   "cell_type": "markdown",
   "metadata": {},
   "source": [
    "# Vectors and Matrices\n",
    "\n",
    "\n",
    "## Vectors\n",
    "A vector is a way to express many physical quantities such as displacement, velocity, force, momentum, heat flux, and many more. Each of the listed quantities has a magnitude, but they also have directions. The image below shows a basic depiction of a two-dimensional vector. In three-dimensions the vector, $ \\vec A $ is:\n",
    "\n",
    "$ \\large \\vec A = A_x \\hat i + A_y \\hat j + A_z \\hat k $ \n",
    "\n",
    "![image info](./vec_def.jpg)\n",
    "\n",
    "To find the magnitude of a vector:\n",
    "\n",
    "$ \\large | \\vec A | = \\sqrt{A_x^2 + A_y^2 + A_z^2} $ \n",
    "\n",
    "The so called direction cosines are:\n",
    "\n",
    "$ \\large cos \\alpha = \\frac{A_x}{| \\vec A |}~~~~~cos \\beta = \\frac{A_y}{| \\vec A |}~~~~~cos \\gamma = \\frac{A_z}{| \\vec A |}     $\n",
    "\n",
    "![image info](./direction_cosines.jpg)\n",
    "\n",
    "Sometimes vectors are written in a matrix form...\n",
    "\n",
    "$\\large \\begin{bmatrix} a_1 & a_2 & a_3 \\end{bmatrix} $ This is a *row* vector.\n",
    "\n",
    "$\\large \\begin{bmatrix} a_1 \\\\ a_2 \\\\ a_3 \\end{bmatrix} $ This is a *column* vector.\n",
    "\n",
    "And even though we think of vectors as having three components... they can actually have any number of components.\n",
    "\n",
    "$\\large \\begin{bmatrix} a_1 & a_2 & ... & a_n \\end{bmatrix} $ This is vector has *n* components.\n",
    "\n",
    "Writing the above *n* component vector in the usual vector form would be:\n",
    "\n",
    "$\\large \\vec A = a_1 \\hat x_1 + a_2 \\hat x_2 + ... + a_n \\hat x_n $\n",
    "\n",
    "Where the $\\hat x_i$ are the unit vectors in each of the *n* directions."
   ]
  },
  {
   "cell_type": "markdown",
   "metadata": {},
   "source": [
    "### Vector Operations\n",
    "\n",
    "#### Adding and Subtracting\n",
    "We often to need to manipulate and use vectors in calculations. One of the simplest operations is *adding or subtracting vectors*. To do this the two vectors to be added or subtracted need to have the same number of elements, *n*. \n",
    "\n",
    "\n",
    "$ \\large \\vec A + \\vec B = \\begin{bmatrix} a_1 & a_2 & ... & a_n \\end{bmatrix} + \\begin{bmatrix} b_1 & b_2 & ... & b_n \\end{bmatrix} = \\begin{bmatrix} a_1+b_1 & a_2+b_2 & ... & a_n+b_n \\end{bmatrix} $\n",
    "\n",
    "$ \\large \\vec A - \\vec B = \\begin{bmatrix} a_1 & a_2 & ... & a_n \\end{bmatrix} - \\begin{bmatrix} b_1 & b_2 & ... & b_n \\end{bmatrix} = \\begin{bmatrix} a_1-b_1 & a_2-b_2 & ... & a_n-b_n \\end{bmatrix} $\n",
    "\n",
    "#### Multiplying by a Scalar\n",
    "Another common operation is *multiplying a vector by a scalar* - in this example, $\\zeta$ is the scalar:\n",
    "\n",
    "$ \\large \\zeta \\vec A = \\begin{bmatrix} \\zeta a_1 & \\zeta a_2 & ... & \\zeta a_n \\end{bmatrix} $\n",
    "\n",
    "#### Transpose of a Vector\n",
    "To get the *transpose* of a vector:\n",
    "\n",
    "$\\large \\begin{bmatrix} a_1 & a_2 & ... & a_n \\end{bmatrix}^T = \\begin{bmatrix} a_1 \\\\ a_2 \\\\ ... \\\\ a_n \\end{bmatrix}~~~and~~~ \\begin{bmatrix} a_1 \\\\ a_2 \\\\ ... \\\\ a_n \\end{bmatrix}^T = \\begin{bmatrix} a_1 & a_2 & ... & a_n \\end{bmatrix} $ \n",
    "\n",
    "#### Dot Product / Scalar Product\n",
    "Getting a *dot or scalar product*, in graphical terms, is like projecting one vector on another... the scalar result will be how much of one vector is going in the same direction as another. This is depicted below:\n",
    "\n",
    "![image info](./dot_prod.jpg)\n",
    "\n",
    "$ \\large \\vec A \\cdot  \\vec B = A_x B_x + A_y B_y + A_z B_z = |\\vec A| |\\vec B| cos \\theta $\n",
    "\n",
    "#### Cross Product / Vector Product\n",
    "Getting a *cross or vector product*, is depicted below:\n",
    "\n",
    "![image info](./vector_prod.jpg)\n",
    "\n",
    "$ \\large | \\vec A \\bigotimes  \\vec B | = |\\vec A| |\\vec B| sin \\theta $\n",
    "\n",
    "To get the full vector representation:\n",
    "\n",
    "$ \\large \\vec C =  \\vec A \\bigotimes  \\vec B = (A_y B_z - B_y A_z)\\hat i~+~(A_z B_x - A_x B_z) \\hat j~+~(A_x B_y - A_y B_x) \\hat k = C_x \\hat i + C_y \\hat j + C_z \\hat k $\n",
    "\n",
    "\n"
   ]
  },
  {
   "cell_type": "code",
   "execution_count": null,
   "metadata": {},
   "outputs": [],
   "source": []
  }
 ],
 "metadata": {
  "kernelspec": {
   "display_name": "Python 3",
   "language": "python",
   "name": "python3"
  },
  "language_info": {
   "codemirror_mode": {
    "name": "ipython",
    "version": 3
   },
   "file_extension": ".py",
   "mimetype": "text/x-python",
   "name": "python",
   "nbconvert_exporter": "python",
   "pygments_lexer": "ipython3",
   "version": "3.7.4"
  }
 },
 "nbformat": 4,
 "nbformat_minor": 4
}
